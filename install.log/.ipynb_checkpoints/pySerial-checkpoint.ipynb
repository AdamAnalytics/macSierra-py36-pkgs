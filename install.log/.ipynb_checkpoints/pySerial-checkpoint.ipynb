{
 "cells": [
  {
   "cell_type": "code",
   "execution_count": 1,
   "metadata": {},
   "outputs": [],
   "source": [
    "import asyncio\n",
    "import serial_asyncio\n"
   ]
  },
  {
   "cell_type": "code",
   "execution_count": 2,
   "metadata": {},
   "outputs": [
    {
     "data": {
      "text/plain": [
       "<_UnixSelectorEventLoop running=False closed=False debug=False>"
      ]
     },
     "execution_count": 2,
     "metadata": {},
     "output_type": "execute_result"
    }
   ],
   "source": [
    "loop = asyncio.get_event_loop()\n",
    "loop"
   ]
  },
  {
   "cell_type": "code",
   "execution_count": 6,
   "metadata": {},
   "outputs": [],
   "source": [
    "class Output(asyncio.Protocol):\n",
    "    def connection_made(self, transport):\n",
    "        self.transport = transport\n",
    "        print('port opened', transport)\n",
    "        transport.serial.rts = False  # You can manipulate Serial object via transport\n",
    "        transport.write(b'Hello, World!\\n')  # Write serial data via transport\n",
    "\n",
    "    def data_received(self, data):\n",
    "        print('data received', repr(data))\n",
    "        if b'\\n' in data:\n",
    "            self.transport.close()\n",
    "\n",
    "    def connection_lost(self, exc):\n",
    "        print('port closed')\n",
    "        self.transport.loop.stop()\n",
    "\n",
    "    def pause_writing(self):\n",
    "        print('pause writing')\n",
    "        print(self.transport.get_write_buffer_size())\n",
    "\n",
    "    def resume_writing(self):\n",
    "        print(self.transport.get_write_buffer_size())\n",
    "        print('resume writing')\n"
   ]
  },
  {
   "cell_type": "code",
   "execution_count": 7,
   "metadata": {},
   "outputs": [
    {
     "data": {
      "text/plain": [
       "<generator object create_serial_connection at 0x10b3647d8>"
      ]
     },
     "execution_count": 7,
     "metadata": {},
     "output_type": "execute_result"
    }
   ],
   "source": [
    "coro = serial_asyncio.create_serial_connection(loop, Output, '/dev/ttys003', baudrate=115200)\n",
    "coro"
   ]
  },
  {
   "cell_type": "code",
   "execution_count": 9,
   "metadata": {},
   "outputs": [],
   "source": [
    "loop.run_until_complete(coro)"
   ]
  },
  {
   "cell_type": "code",
   "execution_count": null,
   "metadata": {},
   "outputs": [],
   "source": [
    "loop.run_forever()\n",
    "loop.close()"
   ]
  }
 ],
 "metadata": {
  "kernelspec": {
   "display_name": "Python 3",
   "language": "python",
   "name": "python3"
  }
 },
 "nbformat": 4,
 "nbformat_minor": 2
}
